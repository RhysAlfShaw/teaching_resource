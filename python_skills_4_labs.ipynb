{
 "cells": [
  {
   "cell_type": "markdown",
   "metadata": {},
   "source": [
    "# Python Tips for Lab Work"
   ]
  },
  {
   "cell_type": "markdown",
   "metadata": {},
   "source": [
    "This resource will better help you with general python practise in your experiments.\n",
    "documentation is always useful:\n",
    "https://docs.scipy.org/doc/scipy/ \n",
    "https://numpy.org/doc/ \n",
    "https://matplotlib.org/\n",
    "\n",
    "\n",
    "\n"
   ]
  },
  {
   "cell_type": "code",
   "execution_count": 1,
   "metadata": {},
   "outputs": [],
   "source": [
    "#Using appropriate imports\n",
    "#Make sure you use the basic imports such as are listed below.\n",
    "\n",
    "import numpy as np\n",
    "import matplotlib.pylab as plt\n",
    "import astropy as ast #astrophysics libary good for calling constants.\n",
    "import scipy as sci \n",
    "import pandas as pd\n"
   ]
  },
  {
   "cell_type": "markdown",
   "metadata": {},
   "source": [
    "### Importing Data "
   ]
  },
  {
   "cell_type": "code",
   "execution_count": null,
   "metadata": {},
   "outputs": [],
   "source": [
    "# Importing data from a CSV file. e.g. exel sheet.\n",
    "#using numpy\n",
    "\n",
    "data = np.genfromtxt('my_CSV.csv',delimiter=',')\n",
    "#or you can use pandas, a better data organising tool.\n",
    "\n",
    "Data = pd.read_csv('data.csv')\n",
    "# or if you have a exel file\n",
    "\n",
    "DATA = pd.read_excel('data.xlsx')"
   ]
  },
  {
   "cell_type": "markdown",
   "metadata": {},
   "source": [
    "### Using Functions to reuse and simply your code."
   ]
  },
  {
   "cell_type": "code",
   "execution_count": 2,
   "metadata": {},
   "outputs": [],
   "source": [
    "# as an example.\n",
    "# I need to change from x,y coordinates to polar coordinates.\n",
    "# I will need to do this multiple times so I will write it in a function.\n",
    "\n",
    "\n",
    "def change_cords(x,y):\n",
    "    r = np.sqrt(x**2 +y**2)\n",
    "    theta = np.arctan(y/x)\n",
    "\n",
    "    \n",
    "    return r, theta"
   ]
  },
  {
   "cell_type": "code",
   "execution_count": 12,
   "metadata": {},
   "outputs": [
    {
     "name": "stdout",
     "output_type": "stream",
     "text": [
      "R : 2.23606797749979 Theta : 1.1071487177940904\n"
     ]
    }
   ],
   "source": [
    "# Now I can call my function when ever I would like.\n",
    "\n",
    "r, theta = change_cords(1,2)\n",
    "print('R :',r, 'Theta :',theta)"
   ]
  },
  {
   "cell_type": "code",
   "execution_count": 6,
   "metadata": {},
   "outputs": [
    {
     "name": "stdout",
     "output_type": "stream",
     "text": [
      "[2.23606798 3.60555128] [1.10714872 0.98279372]\n",
      "[2.23606798 3.60555128] [1.10714872 0.98279372]\n",
      "[2.23606798 3.60555128] [1.10714872 0.98279372]\n"
     ]
    }
   ],
   "source": [
    "# We can actually use a loop to do this when we want to convert a large number of data.\n",
    "\n",
    "# lets make a array of x,y\n",
    "R = np.array([[1,2],[2,3],[4,2],[4,5]])\n",
    "#print(R)\n",
    "\n",
    "for i in range(0,3):\n",
    "    r, theta = change_cords(R[0],R[1])\n",
    "    print(r, theta)\n",
    "\n",
    "# to improve this we can have these number be written in to a array. You shoudl do this.\n"
   ]
  },
  {
   "cell_type": "markdown",
   "metadata": {},
   "source": [
    "## Graphing"
   ]
  },
  {
   "cell_type": "markdown",
   "metadata": {},
   "source": [
    "If you already have your data in python it is easier to graph and analyse your data here opposed to other software origin."
   ]
  },
  {
   "cell_type": "code",
   "execution_count": 11,
   "metadata": {},
   "outputs": [
    {
     "data": {
      "image/png": "[encoded data removed]",
      "text/plain": [
       "<Figure size 432x288 with 1 Axes>"
      ]
     },
     "metadata": {
      "needs_background": "light"
     },
     "output_type": "display_data"
    }
   ],
   "source": [
    "#Using matplot Lib\n",
    "# lets just plot the X,Y from R on a graph with lables and title\n",
    "\n",
    "plt.plot(R[:,0],R[:,1])\n",
    "plt.xlabel('X (m)')\n",
    "plt.ylabel(\"Y (m)\")\n",
    "plt.title('Plot of X vs Y')\n",
    "plt.show()"
   ]
  },
  {
   "cell_type": "markdown",
   "metadata": {},
   "source": [
    "Above is quite a basic plot by the essential x,y labels and possibly a title shoud be included. The data is random so does not show any relation. When your data does you will want to do some further analysis on it. In origin this analysis is abit of a black box. But here you need to know how to do it and usually implement it yourselves. Sometimes it is useful to use in built functions that numpy or scipy can offer."
   ]
  }
 ],
 "metadata": {
  "kernelspec": {
   "display_name": "Python 3.9.4 64-bit",
   "language": "python",
   "name": "python3"
  },
  "language_info": {
   "codemirror_mode": {
    "name": "ipython",
    "version": 3
   },
   "file_extension": ".py",
   "mimetype": "text/x-python",
   "name": "python",
   "nbconvert_exporter": "python",
   "pygments_lexer": "ipython3",
   "version": "3.9.4"
  },
  "orig_nbformat": 4,
  "vscode": {
   "interpreter": {
    "hash": "3aa3c327cc97aaaa0f29cac1f3d2eb92898a4805bc1e317ffa8672b0db5d5e49"
   }
  }
 },
 "nbformat": 4,
 "nbformat_minor": 2
}
